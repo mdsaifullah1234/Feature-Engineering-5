{
 "cells": [
  {
   "cell_type": "markdown",
   "metadata": {},
   "source": [
    "Q1. What is the difference between Ordinal Encoding and Label Encoding? Provide an example of when you \n",
    "might choose one over the other"
   ]
  },
  {
   "cell_type": "markdown",
   "metadata": {},
   "source": [
    "ANS  =  Ordinal Encoding preserves the order or hierarchy among categories, whereas Label Encoding assigns unique numerical labels to categories without considering any order. You might choose Ordinal Encoding when there's a clear ranking or hierarchy among categories, such as \"low,\" \"medium,\" and \"high\" for sizes. Label Encoding, on the other hand, can be chosen when there's no inherent order among categories, like \"red,\" \"green,\" and \"blue\" for colors."
   ]
  },
  {
   "cell_type": "markdown",
   "metadata": {},
   "source": [
    "Q2. Explain how Target Guided Ordinal Encoding works and provide an example of when you might use it in \n",
    "a machine learning project"
   ]
  },
  {
   "cell_type": "markdown",
   "metadata": {},
   "source": [
    "ANS  =  Target Guided Ordinal Encoding is a technique where categorical variables are encoded based on the target variable's mean or median value for each category. It's useful when there's a strong relationship between the categorical variable and the target variable. For example, in a credit risk assessment project, you might use Target Guided Ordinal Encoding to encode customer risk levels based on their historical default rates."
   ]
  },
  {
   "cell_type": "markdown",
   "metadata": {},
   "source": [
    "Q3. Define covariance and explain why it is important in statistical analysis. How is covariance calculated?"
   ]
  },
  {
   "cell_type": "markdown",
   "metadata": {},
   "source": [
    "ANS  =  Covariance measures the degree to which two variables change together. It's important in statistical analysis because it helps understand the relationship between variables. Covariance is calculated as the average of the product of the differences of each variable from their respective means.\n",
    "\n"
   ]
  },
  {
   "cell_type": "markdown",
   "metadata": {},
   "source": [
    "Q4. For a dataset with the following categorical variables: Color (red, green, blue), Size (small, medium, \n",
    "large), and Material (wood, metal, plastic), perform label encoding using Python's scikit-learn library. \n",
    "Show your code and explain the output"
   ]
  },
  {
   "cell_type": "code",
   "execution_count": null,
   "metadata": {},
   "outputs": [],
   "source": [
    "from sklearn.preprocessing import LabelEncoder\n",
    "import pandas as pd\n",
    "\n",
    "# Create a DataFrame\n",
    "df = pd.DataFrame({\n",
    "    'Color': ['red', 'green', 'blue', 'green'],\n",
    "    'Size': ['small', 'medium', 'large', 'medium'],\n",
    "    'Material': ['wood', 'metal', 'plastic', 'metal']\n",
    "})\n",
    "\n",
    "# Initialize LabelEncoder\n",
    "encoder = LabelEncoder()\n",
    "\n",
    "# Encoding each categorical variable\n",
    "df['Color_encoded'] = encoder.fit_transform(df['Color'])\n",
    "df['Size_encoded'] = encoder.fit_transform(df['Size'])\n",
    "df['Material_encoded'] = encoder.fit_transform(df['Material'])\n",
    "\n",
    "print(df)\n"
   ]
  },
  {
   "cell_type": "markdown",
   "metadata": {},
   "source": [
    "Q5. Calculate the covariance matrix for the following variables in a dataset: Age, Income, and Education \n",
    "level. Interpret the results"
   ]
  },
  {
   "cell_type": "code",
   "execution_count": null,
   "metadata": {},
   "outputs": [],
   "source": [
    "import numpy as np\n",
    "\n",
    "# Simulated data\n",
    "data = np.array([\n",
    "    [25, 40000, 12],  # Age, Income, Education level\n",
    "    [30, 45000, 16],\n",
    "    [35, 50000, 20],\n",
    "    [40, 55000, 21],\n",
    "    [45, 60000, 22]\n",
    "])\n",
    "\n",
    "# Using numpy to calculate the covariance matrix\n",
    "cov_matrix = np.cov(data, rowvar=False)\n",
    "\n",
    "print(cov_matrix)\n"
   ]
  },
  {
   "cell_type": "markdown",
   "metadata": {},
   "source": [
    "Q6. You are working on a machine learning project with a dataset containing several categorical \n",
    "variables, including \"Gender\" (Male/Female), \"Education Level\" (High School/Bachelor's/Master's/PhD), \n",
    "and \"Employment Status\" (Unemployed/Part-Time/Full-Time). Which encoding method would you use for \n",
    "each variable, and why?"
   ]
  },
  {
   "cell_type": "markdown",
   "metadata": {},
   "source": [
    "Choosing Encoding Methods for Categorical Variables\n",
    "When deciding which encoding method to use for categorical variables in a machine learning project, consider the nature of the data and the requirements of the learning algorithm:\n",
    "\n",
    "Gender (Male/Female): For binary categorical variables like gender, you can use label encoding or binary encoding. Label encoding assigns 0 or 1 to the categories, while binary encoding creates binary digits for each category. Since gender has only two categories, label encoding is simple and sufficient.\n",
    "Education Level (High School/Bachelor's/Master's/PhD): For ordinal categorical variables like education level, ordinal encoding or target encoding is appropriate. Ordinal encoding assigns integer values based on the order of the categories, while target encoding calculates the mean of the target variable for each category. Since education level has a clear order, ordinal encoding would preserve this order effectively.\n",
    "Employment Status (Unemployed/Part-Time/Full-Time): For nominal categorical variables like employment status, one-hot encoding or target encoding can be used. One-hot encoding creates binary columns for each category, while target encoding computes the mean target value for each category. Since employment status does not have a clear order, one-hot encoding ensures that the model treats each category equally."
   ]
  },
  {
   "cell_type": "code",
   "execution_count": null,
   "metadata": {},
   "outputs": [],
   "source": [
    "import pandas as pd\n",
    "from category_encoders import OrdinalEncoder, TargetEncoder\n",
    "\n",
    "# Sample DataFrame\n",
    "df = pd.DataFrame({\n",
    "    'Gender': ['Male', 'Female', 'Male', 'Female'],\n",
    "    'Education Level': ['High School', \"Bachelor's\", 'Master's', 'PhD'],\n",
    "    'Employment Status': ['Unemployed', 'Part-Time', 'Full-Time', 'Part-Time']\n",
    "})\n",
    "\n",
    "# Ordinal encoding for 'Education Level'\n",
    "ordinal_encoder = OrdinalEncoder()\n",
    "df['Education_Level_encoded'] = ordinal_encoder.fit_transform(df[['Education Level']])\n",
    "\n",
    "# One-hot encoding for 'Employment Status'\n",
    "df = pd.get_dummies(df, columns=['Employment Status'])\n",
    "\n",
    "print(df)\n"
   ]
  },
  {
   "cell_type": "markdown",
   "metadata": {},
   "source": [
    "Q7. You are analyzing a dataset with two continuous variables, \"Temperature\" and \"Humidity\", and two \n",
    "categorical variables, \"Weather Condition\" (Sunny/Cloudy/Rainy) and \"Wind Direction\" (North/South/\n",
    "East/West). Calculate the covariance between each pair of variables and interpret the results"
   ]
  },
  {
   "cell_type": "markdown",
   "metadata": {},
   "source": [
    "In the case of calculating covariance between continuous and categorical variables, the usual covariance calculation isn't meaningful because covariance measures the joint variability between two continuous variables. However, you can analyze the relationship between categorical and continuous variables using techniques like ANOVA (Analysis of Variance) or visualization methods like box plots or scatter plots.\n",
    "\n",
    "To calculate covariance between continuous variables like 'Temperature' and 'Humidity', you can use numpy's cov function:"
   ]
  },
  {
   "cell_type": "code",
   "execution_count": null,
   "metadata": {},
   "outputs": [],
   "source": [
    "import numpy as np\n",
    "\n",
    "# Sample data\n",
    "temperature = np.array([22, 25, 24, 18, 20])\n",
    "humidity = np.array([0.80, 0.60, 0.70, 0.90, 0.85])\n",
    "\n",
    "# Calculate covariance\n",
    "covariance = np.cov(temperature, humidity)[0, 1]\n",
    "\n",
    "print(\"Covariance between Temperature and Humidity:\", covariance)\n"
   ]
  },
  {
   "cell_type": "markdown",
   "metadata": {},
   "source": []
  }
 ],
 "metadata": {
  "kernelspec": {
   "display_name": "Python 3",
   "language": "python",
   "name": "python3"
  },
  "language_info": {
   "codemirror_mode": {
    "name": "ipython",
    "version": 3
   },
   "file_extension": ".py",
   "mimetype": "text/x-python",
   "name": "python",
   "nbconvert_exporter": "python",
   "pygments_lexer": "ipython3",
   "version": "3.10.12"
  }
 },
 "nbformat": 4,
 "nbformat_minor": 2
}
